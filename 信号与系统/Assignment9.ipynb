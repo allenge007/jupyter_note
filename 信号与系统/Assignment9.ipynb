{
 "cells": [
  {
   "cell_type": "markdown",
   "metadata": {},
   "source": [
    "# 4.21(h)\n",
    "\n",
    "我们可以将信号分解为两个部分：\n",
    "$$\n",
    "x(t)=\\sum_{k\\in\\mathbb{Z}}\\delta(t-2k)+\\sum_{k\\in\\mathbb{Z}}\\delta(t-k).\n",
    "$$\n",
    "\n",
    "**第一项：**\n",
    "\n",
    "已知周期性冲激序列\n",
    "$$\n",
    "\\sum_{k\\in\\mathbb{Z}} \\delta(t-kT)\n",
    "$$\n",
    "的傅立叶变换为\n",
    "$$\n",
    "\\mathcal{F}\\left\\{\\sum_{k\\in\\mathbb{Z}} \\delta(t-kT)\\right\\}=\\frac{2\\pi}{T}\\sum_{n\\in\\mathbb{Z}}\\delta\\Bigl(\\omega-\\frac{2\\pi n}{T}\\Bigr).\n",
    "$$\n",
    "对第一项，令 $T=2$ ，有\n",
    "$$\n",
    "\\begin{aligned}\n",
    "\\mathcal{F}\\Biggl\\{\\sum_{k\\in\\mathbb{Z}} \\delta(t-2k)\\Biggr\\}\n",
    "&=\\frac{2\\pi}{2}\\sum_{n\\in\\mathbb{Z}}\\delta\\Bigl(\\omega-\\frac{2\\pi n}{2}\\Bigr)\\\\[1mm]\n",
    "&=\\pi\\sum_{n\\in\\mathbb{Z}}\\delta\\Bigl(\\omega-\\pi n\\Bigr).\n",
    "\\end{aligned}\n",
    "$$\n",
    "\n",
    "**第二项：**\n",
    "\n",
    "对第二项，令 $T=1$ 得\n",
    "\n",
    "$$\n",
    "\\mathcal{F}\\Biggl\\{\\sum_{k\\in\\mathbb{Z}}\\delta(t-k)\\Biggr\\}\n",
    "=\\frac{2\\pi}{1}\\sum_{n\\in\\mathbb{Z}}\\delta\\Bigl(\\omega-2\\pi n\\Bigr)\n",
    "=2\\pi\\sum_{n\\in\\mathbb{Z}}\\delta\\Bigl(\\omega-2\\pi n\\Bigr).\n",
    "$$\n",
    "\n",
    "**故，信号 $x(t)$ 的傅立叶变换为**\n",
    "$$\n",
    "\\boxed{\n",
    "X(j\\omega)=\\sum_{n\\in\\mathbb{Z}}\\delta\\Bigl(\\omega-\\pi n\\Bigr)\n",
    "+2\\pi\\sum_{n\\in\\mathbb{Z}}\\delta\\Bigl(\\omega-2\\pi n\\Bigr).\n",
    "}\n",
    "$$"
   ]
  }
 ],
 "metadata": {
  "kernelspec": {
   "display_name": "Python 3 (ipykernel)",
   "language": "python",
   "name": "python3"
  },
  "language_info": {
   "codemirror_mode": {
    "name": "ipython",
    "version": 3
   },
   "file_extension": ".py",
   "mimetype": "text/x-python",
   "name": "python",
   "nbconvert_exporter": "python",
   "pygments_lexer": "ipython3",
   "version": "3.12.7"
  }
 },
 "nbformat": 4,
 "nbformat_minor": 4
}
