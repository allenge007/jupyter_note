{
 "cells": [
  {
   "cell_type": "markdown",
   "id": "a79d5860",
   "metadata": {},
   "source": [
    "# 7.3\n",
    "\n",
    "## (a) $x(t) = 1 + \\cos (2000\\pi t)  + \\sin (4000\\pi t)$\n",
    "\n",
    "- $cos(2000πt)$：角频率 $2000π\\ rad/s$，对应频率 $f = (2000π)/(2π) = 1000Hz$\n",
    "- $sin(4000πt)$：角频率 $4000π rad/s$，对应频率 $f = (4000π)/(2π) = 2000Hz$  \n",
    "\n",
    "根据 Nyquist 定理，采样率至少应为最高频率的两倍，即 $4000Hz$"
   ]
  },
  {
   "cell_type": "markdown",
   "id": "c0862213",
   "metadata": {},
   "source": [
    "## (b) $x(t) = \\frac{\\sin(4000\\pi t)}{\\pi t}$\n",
    "\n",
    "该信号为理想低通滤波器的冲激响应，最高频率为 $4000\\pi\\ rad/s = 2000 Hz$\n",
    "\n",
    "因此 Nyquist rate 为 $4000 Hz$"
   ]
  },
  {
   "cell_type": "markdown",
   "id": "7b679953",
   "metadata": {},
   "source": [
    "## (c) $x(t) = \\frac{\\sin (4000\\pi t)}{\\pi t}$\n",
    "\n",
    "对 (b) 信号有  \n",
    "$$\n",
    "x_b(t) = \\frac{\\sin(4000\\pi t)}{\\pi t}\n",
    "$$ \n",
    "其傅里叶变换为  \n",
    "$$\n",
    "X_b(f) = \n",
    "\\begin{cases}\n",
    "1, & |f| \\le 4000\\pi \\\\\n",
    "0, & |f| > 4000\\pi\n",
    "\\end{cases}\n",
    "$$ \n",
    "\n",
    "对于 (c) 信号  \n",
    "$$\n",
    "x_c(t) = [x_b(t)]^2 = \\left[\\frac{\\sin(4000\\pi t)}{\\pi t}\\right]^2\n",
    "$$ \n",
    "根据傅里叶变换的卷积性质，有  \n",
    "$$\n",
    "\\mathcal{F}\\{x_b^2(t)\\} = \\frac{1}{2\\pi}\\left(X_b(f) * X_b(f)\\right)\n",
    "$$\n",
    "\n",
    "矩形函数与自身的卷积结果为一个三角形函数，其频域为  \n",
    "$$\n",
    "[-8000\\pi, 8000\\pi]\n",
    "$$\n",
    "即，$\\left(X_b * X_b\\right)(f)$ 在 $|f|>8000\\pi$ 时为零。\n",
    "\n",
    "故 (c) 信号的 Nyquist rate 为$16000\\ rad/s =  8000 Hz$。"
   ]
  }
 ],
 "metadata": {
  "kernelspec": {
   "display_name": "Python 3 (ipykernel)",
   "language": "python",
   "name": "python3"
  },
  "language_info": {
   "codemirror_mode": {
    "name": "ipython",
    "version": 3
   },
   "file_extension": ".py",
   "mimetype": "text/x-python",
   "name": "python",
   "nbconvert_exporter": "python",
   "pygments_lexer": "ipython3",
   "version": "3.12.7"
  }
 },
 "nbformat": 4,
 "nbformat_minor": 5
}
