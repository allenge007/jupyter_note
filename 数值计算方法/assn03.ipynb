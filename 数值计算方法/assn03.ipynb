{
 "cells": [
  {
   "cell_type": "markdown",
   "metadata": {},
   "source": [
    "# 14\n",
    "\n",
    "求次数小于等于 3 的多项式 $P(x)$ 使其满足条件\n",
    "\n",
    "$$\n",
    "P(0) = 0, \\quad P'(0) = 1, \\quad P(1) = 1, \\quad P'(1) = 2\n",
    "$$\n",
    "\n",
    "## Answer\n",
    "\n"
   ]
  }
 ],
 "metadata": {
  "language_info": {
   "name": "python"
  }
 },
 "nbformat": 4,
 "nbformat_minor": 2
}
