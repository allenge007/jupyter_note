{
 "cells": [
  {
   "cell_type": "code",
   "execution_count": 31,
   "metadata": {},
   "outputs": [
    {
     "data": {
      "text/latex": [
       "$\\displaystyle \\begin{cases} - \\frac{2 \\theta \\left(2 \\theta - 1\\right)}{16 \\theta^{2} - 8 \\theta + 1} & \\text{for}\\: \\theta \\neq \\frac{1}{4} \\\\- \\infty \\operatorname{sign}{\\left(\\frac{2 \\theta - 1}{\\theta} \\right)} & \\text{otherwise} \\end{cases}$"
      ],
      "text/plain": [
       "Piecewise((-2*theta*(2*theta - 1)/(16*theta**2 - 8*theta + 1), Ne(theta, 1/4)), (-oo*sign((2*theta - 1)/theta), True))"
      ]
     },
     "execution_count": 31,
     "metadata": {},
     "output_type": "execute_result"
    }
   ],
   "source": [
    "import sympy as sym\n",
    "import numpy as np\n",
    "import matplotlib.pyplot as plt\n",
    "from sympy.abc import x, theta, r, z, t\n",
    "\n",
    "# 定义 sigma 为正实数\n",
    "theta = sym.Symbol('theta', real=True)\n",
    "\n",
    "pi = sym.pi\n",
    "\n",
    "# 定义函数 F\n",
    "F = (2 * theta - 1) / (2 * theta) * sym.ln(x) * x ** (1 - 1 / (2 * theta))\n",
    "\n",
    "res = sym.integrate(F, (x, 0, 1))\n",
    "\n",
    "res"
   ]
  }
 ],
 "metadata": {
  "kernelspec": {
   "display_name": "Python 3",
   "language": "python",
   "name": "python3"
  },
  "language_info": {
   "codemirror_mode": {
    "name": "ipython",
    "version": 3
   },
   "file_extension": ".py",
   "mimetype": "text/x-python",
   "name": "python",
   "nbconvert_exporter": "python",
   "pygments_lexer": "ipython3",
   "version": "3.13.2"
  }
 },
 "nbformat": 4,
 "nbformat_minor": 2
}
