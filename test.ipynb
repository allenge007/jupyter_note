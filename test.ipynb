{
 "cells": [
  {
   "cell_type": "code",
   "execution_count": 20,
   "metadata": {},
   "outputs": [
    {
     "data": {
      "text/latex": [
       "$\\displaystyle - 2 \\sigma^{2} e^{- \\frac{t}{2 \\sigma^{2}}}$"
      ],
      "text/plain": [
       "-2*sigma**2*exp(-t/(2*sigma**2))"
      ]
     },
     "execution_count": 20,
     "metadata": {},
     "output_type": "execute_result"
    }
   ],
   "source": [
    "import sympy as sym\n",
    "import numpy as np\n",
    "import matplotlib.pyplot as plt\n",
    "from sympy.abc import x, theta, r, z, t\n",
    "\n",
    "# 定义 sigma 为正实数\n",
    "sigma = sym.Symbol('sigma', positive=True, real=True)\n",
    "\n",
    "pi = sym.pi\n",
    "\n",
    "# 定义函数 F\n",
    "F = sym.exp(-t/(2*sigma**2))\n",
    "\n",
    "sym.integrate(F, t)"
   ]
  }
 ],
 "metadata": {
  "kernelspec": {
   "display_name": "Python 3",
   "language": "python",
   "name": "python3"
  },
  "language_info": {
   "codemirror_mode": {
    "name": "ipython",
    "version": 3
   },
   "file_extension": ".py",
   "mimetype": "text/x-python",
   "name": "python",
   "nbconvert_exporter": "python",
   "pygments_lexer": "ipython3",
   "version": "3.13.0"
  }
 },
 "nbformat": 4,
 "nbformat_minor": 2
}
